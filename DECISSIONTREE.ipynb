{
 "cells": [
  {
   "cell_type": "markdown",
   "id": "40be20ab-2a7f-495b-a22b-f91c0c964290",
   "metadata": {},
   "source": [
    "# THEORY"
   ]
  },
  {
   "cell_type": "code",
   "execution_count": 1,
   "id": "02f54ee8-5a67-4a80-a878-ad2f91692d07",
   "metadata": {},
   "outputs": [],
   "source": [
    "#Q1. What is a Decision Tree, and how does it work? \n",
    "   \n",
    "#A1. \n",
    "    # Decision Tree is a supervised learning algorithm used for classification and regression tasks. \n",
    "    # It splits data into branches based on feature conditions, forming a tree-like structure where each internal node represents a decision rule, \n",
    "    # each branch represents an outcome, and each leaf node represents a final class or value."
   ]
  },
  {
   "cell_type": "code",
   "execution_count": 2,
   "id": "77ac16e7-68e0-4d38-a9f0-2b6ee2521249",
   "metadata": {},
   "outputs": [],
   "source": [
    "#Q2. What are impurity measures in Decision Trees?  \n",
    "   \n",
    "#A2- Impurity measures quantify the disorder in a dataset. Common impurity measures include:\n",
    "        # - **Gini Impurity** (used in CART)\n",
    "        # - **Entropy** (used in ID3 and C4.5)\n",
    "        # - **Variance Reduction** (used in regression trees)\n"
   ]
  },
  {
   "cell_type": "code",
   "execution_count": 3,
   "id": "b82da4c5-2d77-4e2c-88bd-9eb47349c6a1",
   "metadata": {},
   "outputs": [],
   "source": [
    "#Q3. What is the mathematical formula for Gini Impurity? \n",
    "  \n",
    "\n",
    "#A3 Gini Impurity measures how often a randomly chosen element from the dataset would be incorrectly labeled if it were randomly classified according to the distribution of labels in the dataset.\n",
    "\n",
    "    # The formula for Gini Impurity is:\n",
    "    # Gini = 1 - (Sum of squared probabilities of each class)\n",
    "    # For example, if a node contains 70% of class A and 30% of class B, the Gini Impurity would be:\n",
    "    # Gini = 1 - (0.7² + 0.3²) = 1 - (0.49 + 0.09) = 0.42"
   ]
  },
  {
   "cell_type": "code",
   "execution_count": 4,
   "id": "fef298a3-f55a-457b-9eba-a9282b130468",
   "metadata": {},
   "outputs": [],
   "source": [
    "#Q4. What is the mathematical formula for Entropy? \n",
    "  \n",
    "    # Entropy measures the randomness or unpredictability in a dataset. It is used to determine the best attribute for splitting in a decision tree.\n",
    "    # The formula for Entropy is:\n",
    "    # Entropy = - (Sum of (probability of each class * log2(probability of each class)))\n",
    "    # For example, if a node contains 70% of class A and 30% of class B, the Entropy would be:\n",
    "    # Entropy = - (0.7 * log2(0.7) + 0.3 * log2(0.3)) ≈ 0.88.\n",
    "    # A lower entropy value means a purer node, which helps in making better splits."
   ]
  },
  {
   "cell_type": "code",
   "execution_count": 5,
   "id": "70e0ca03-1759-4ac0-926c-1bc06829d1e6",
   "metadata": {},
   "outputs": [],
   "source": [
    "#Q5. What is Information Gain, and how is it used in Decision Trees?  \n",
    "   \n",
    "# Information Gain (IG) is a measure of how much uncertainty (entropy) is reduced after a dataset is split on a feature.\n",
    "# The formula for Information Gain is:\n",
    "    # IG = Entropy(parent) - Weighted sum of Entropy(children)\n",
    "    # For example, if a dataset is split into two subsets where the uncertainty is significantly reduced, the Information Gain will be high. \n",
    "    # A higher Information Gain indicates a better feature for splitting the data, helping to create a more effective Decision Tree.) \n",
    "    # A higher Information Gain means a better split."
   ]
  },
  {
   "cell_type": "code",
   "execution_count": 6,
   "id": "ae963b2a-5487-4516-b1ef-d39e65870b82",
   "metadata": {},
   "outputs": [],
   "source": [
    "#Q6. What is the difference between Gini Impurity and Entropy?\n",
    "    \n",
    "#A6     \n",
    "#       **Gini Impurity** is computationally simpler and tends to create purer nodes quickly.  \n",
    "#       **Entropy** considers the probability distribution more precisely but is computationally expensive."
   ]
  },
  {
   "cell_type": "code",
   "execution_count": 7,
   "id": "b605a2f7-2597-4e0a-9a16-12b461df05b0",
   "metadata": {},
   "outputs": [],
   "source": [
    "#Q7. What is the mathematical explanation behind Decision Trees? \n",
    "\n",
    "#A7  A Decision Tree recursively splits data based on impurity reduction. \n",
    "    #It selects features using a criterion like Gini Impurity or Entropy and applies recursive partitioning until a stopping condition (e.g., max depth) is met."
   ]
  },
  {
   "cell_type": "code",
   "execution_count": 8,
   "id": "635b614b-b86f-43da-814c-4a26ee06e3e4",
   "metadata": {},
   "outputs": [],
   "source": [
    "#Q8. What is Pre-Pruning in Decision Trees? \n",
    "   \n",
    "#A8  Pre-Pruning stops tree growth early using conditions like max depth, min samples per leaf, or min impurity decrease to prevent overfitting.\n"
   ]
  },
  {
   "cell_type": "code",
   "execution_count": 9,
   "id": "b8289d69-189c-43e5-8c86-340c92c7f404",
   "metadata": {},
   "outputs": [],
   "source": [
    "#9. What is Post-Pruning in Decision Trees? \n",
    "\n",
    "#A9- Post-Pruning removes unnecessary branches after the tree is fully grown, usually based on validation data."
   ]
  },
  {
   "cell_type": "code",
   "execution_count": 10,
   "id": "4a8a9e2d-271f-4f9d-b127-6059e1b5eaf0",
   "metadata": {},
   "outputs": [],
   "source": [
    "#Q10. What is the difference between Pre-Pruning and Post-Pruning?  \n",
    "    \n",
    "#A10 - Pre-Pruning prevents tree overgrowth.  \n",
    "    #- Post-Pruning removes unnecessary complexity after the tree is built."
   ]
  },
  {
   "cell_type": "code",
   "execution_count": 11,
   "id": "08e2515c-ebb5-4119-8df3-0d6865bee6fb",
   "metadata": {},
   "outputs": [],
   "source": [
    "#Q11. What is a Decision Tree Regressor?\n",
    "   \n",
    "#A11- A Decision Tree Regressor predicts continuous values by minimizing variance at each split.\n"
   ]
  },
  {
   "cell_type": "code",
   "execution_count": 12,
   "id": "c81b3544-71d9-44a1-8019-302414a24b70",
   "metadata": {},
   "outputs": [],
   "source": [
    "#Q12. What are the advantages and disadvantages of Decision Trees?  \n",
    "\n",
    "#A12- **Advantages:**  \n",
    "         # - Easy to interpret  \n",
    "         # - Handles categorical and numerical data  \n",
    "         # - Requires little data preprocessing  \n",
    "\n",
    "     #**Disadvantages:**  \n",
    "         # - Prone to overfitting  \n",
    "         # - Unstable with small changes in data  \n",
    "         # - Biased towards dominant classes if not balanced  "
   ]
  },
  {
   "cell_type": "code",
   "execution_count": 13,
   "id": "584f6edc-3efe-48e9-ba17-6ad44dc591ca",
   "metadata": {},
   "outputs": [],
   "source": [
    "#Q13. How does a Decision Tree handle missing values? \n",
    "    \n",
    "#A13-    # - It can ignore missing values while splitting.  \n",
    "         # - It can use surrogate splits (alternative features).  \n",
    "         # - It can use imputation methods (mean, median, mode).  \n"
   ]
  },
  {
   "cell_type": "code",
   "execution_count": 14,
   "id": "2bfcd2d6-72af-45fd-8872-1cef19f396db",
   "metadata": {},
   "outputs": [],
   "source": [
    "#Q14. How does a Decision Tree handle categorical features? \n",
    "    \n",
    "#A14 - It uses one-hot encoding or label encoding.  \n",
    "    # - Some implementations split based on category frequency."
   ]
  },
  {
   "cell_type": "code",
   "execution_count": 15,
   "id": "6a227d66-4ebe-4bd4-af94-47b63e259630",
   "metadata": {},
   "outputs": [],
   "source": [
    "#Q15. What are some real-world applications of Decision Trees? \n",
    "\n",
    "# A15-  #  **Medical diagnosis** (e.g., disease prediction)  \n",
    "        # - **Finance** (e.g., credit risk assessment)  \n",
    "        # - **Marketing** (e.g., customer segmentation)  \n",
    "        # - **Fraud detection**  "
   ]
  },
  {
   "cell_type": "markdown",
   "id": "1ff67bad-35c7-41d5-ba8f-48ccd3cf1e2c",
   "metadata": {},
   "source": [
    "# PRACTICAL"
   ]
  },
  {
   "cell_type": "code",
   "execution_count": 16,
   "id": "3d5586a6-6e13-462d-af92-4eef85dc5294",
   "metadata": {},
   "outputs": [],
   "source": [
    "#Q16. Write a Python program to train a Decision Tree Classifier on the Iris dataset and print the model accuracy:\n"
   ]
  },
  {
   "cell_type": "code",
   "execution_count": 17,
   "id": "14729df3-dd3d-42a1-a696-116e03f1bec5",
   "metadata": {},
   "outputs": [
    {
     "name": "stdout",
     "output_type": "stream",
     "text": [
      "Accuracy: 1.0\n"
     ]
    }
   ],
   "source": [
    "from sklearn.datasets import load_iris\n",
    "from sklearn.model_selection import train_test_split\n",
    "from sklearn.tree import DecisionTreeClassifier\n",
    "from sklearn.metrics import accuracy_score\n",
    "\n",
    "iris = load_iris()\n",
    "X_train, X_test, y_train, y_test = train_test_split(iris.data, iris.target, test_size=0.2, random_state=42)\n",
    "model = DecisionTreeClassifier()\n",
    "model.fit(X_train, y_train)\n",
    "y_pred = model.predict(X_test)\n",
    "print(\"Accuracy:\", accuracy_score(y_test, y_pred))"
   ]
  },
  {
   "cell_type": "code",
   "execution_count": 18,
   "id": "269ae5fd-c1a8-497a-b843-3ba88fab0c34",
   "metadata": {},
   "outputs": [],
   "source": [
    "#Q17. Write a Python program to train a Decision Tree Classifier using Gini Impurity as the criterion and print the feature importances:"
   ]
  },
  {
   "cell_type": "code",
   "execution_count": 19,
   "id": "f39cc046-6c37-4393-8031-9a29b166a109",
   "metadata": {},
   "outputs": [
    {
     "name": "stdout",
     "output_type": "stream",
     "text": [
      "Feature Importances: [0.03334028 0.         0.88947325 0.07718647]\n"
     ]
    }
   ],
   "source": [
    "model = DecisionTreeClassifier(criterion=\"gini\")\n",
    "model.fit(X_train, y_train)\n",
    "print(\"Feature Importances:\", model.feature_importances_)"
   ]
  },
  {
   "cell_type": "code",
   "execution_count": 20,
   "id": "3144264c-9095-4df9-b360-92dc3d685faf",
   "metadata": {},
   "outputs": [],
   "source": [
    "#Q18.  Write a Python program to train a Decision Tree Classifier using Entropy as the splitting criterion and print the model accuracy:"
   ]
  },
  {
   "cell_type": "code",
   "execution_count": 21,
   "id": "07e8b68c-4368-418c-ae9d-f42d94217967",
   "metadata": {},
   "outputs": [
    {
     "name": "stdout",
     "output_type": "stream",
     "text": [
      "Accuracy: 1.0\n"
     ]
    }
   ],
   "source": [
    "model = DecisionTreeClassifier(criterion=\"entropy\")\n",
    "model.fit(X_train, y_train)\n",
    "y_pred = model.predict(X_test)\n",
    "print(\"Accuracy:\", accuracy_score(y_test, y_pred))\n",
    "   "
   ]
  },
  {
   "cell_type": "code",
   "execution_count": 22,
   "id": "b16dee88-30d5-488f-9f2f-36f458f0b6b7",
   "metadata": {},
   "outputs": [],
   "source": [
    "#Q19. Write a Python program to train a Decision Tree Regressor on a housing dataset and evaluate using Mean Squared Error (MSE):"
   ]
  },
  {
   "cell_type": "code",
   "execution_count": 23,
   "id": "a8a6ce82-5ed1-487f-8ce1-981a0fad9730",
   "metadata": {},
   "outputs": [
    {
     "name": "stdout",
     "output_type": "stream",
     "text": [
      "MSE: 0.4980209926882025\n"
     ]
    }
   ],
   "source": [
    "from sklearn.datasets import fetch_california_housing\n",
    "from sklearn.tree import DecisionTreeRegressor\n",
    "from sklearn.metrics import mean_squared_error\n",
    "\n",
    "data = fetch_california_housing()\n",
    "X_train, X_test, y_train, y_test = train_test_split(data.data, data.target, test_size=0.2, random_state=42)\n",
    "regressor = DecisionTreeRegressor()\n",
    "regressor.fit(X_train, y_train)\n",
    "y_pred = regressor.predict(X_test)\n",
    "print(\"MSE:\", mean_squared_error(y_test, y_pred))"
   ]
  },
  {
   "cell_type": "code",
   "execution_count": 24,
   "id": "1f0e3e28-0f18-47b4-be68-5c21e2863a0c",
   "metadata": {},
   "outputs": [],
   "source": [
    "#Q20. Write a Python program to train a Decision Tree Classifier and visualize the tree using graphviz:"
   ]
  },
  {
   "cell_type": "code",
   "execution_count": 25,
   "id": "3d463887-a071-4f76-bdc7-42394a72884d",
   "metadata": {},
   "outputs": [
    {
     "data": {
      "text/plain": [
       "'iris_tree.pdf'"
      ]
     },
     "execution_count": 25,
     "metadata": {},
     "output_type": "execute_result"
    }
   ],
   "source": [
    "from sklearn.tree import export_graphviz\n",
    "import graphviz\n",
    "\n",
    "dot_data = export_graphviz(model, out_file=None, feature_names=iris.feature_names, class_names=iris.target_names, filled=True)\n",
    "graph = graphviz.Source(dot_data)\n",
    "graph.render(\"iris_tree\")"
   ]
  },
  {
   "cell_type": "code",
   "execution_count": 26,
   "id": "06a2d72c-baf4-4af5-8bba-413fbb38b32d",
   "metadata": {},
   "outputs": [],
   "source": [
    "#Q21. Write a Python program to train a Decision Tree Classifier with a maximum depth of 3 and compare its accuracy with a fully grown tree"
   ]
  },
  {
   "cell_type": "code",
   "execution_count": 27,
   "id": "109cf056-d2d7-4f59-9001-c65354f9e868",
   "metadata": {},
   "outputs": [
    {
     "name": "stdout",
     "output_type": "stream",
     "text": [
      "Accuracy with max depth 3: 1.0\n",
      "Accuracy with full tree: 1.0\n",
      "Accuracy with max depth 3: 1.00\n",
      "Accuracy with full tree: 1.00\n"
     ]
    },
    {
     "data": {
      "text/plain": [
       "'iris_tree_full.pdf'"
      ]
     },
     "execution_count": 27,
     "metadata": {},
     "output_type": "execute_result"
    }
   ],
   "source": [
    "# Load the Iris dataset\n",
    "iris = load_iris()\n",
    "X_train, X_test, y_train, y_test = train_test_split(iris.data, iris.target, test_size=0.2, random_state=42)\n",
    "\n",
    "# Train a Decision Tree Classifier with max depth 3\n",
    "model_limited = DecisionTreeClassifier(max_depth=3)\n",
    "model_limited.fit(X_train, y_train)\n",
    "\n",
    "# Predict and evaluate the limited depth model\n",
    "y_pred_limited = model_limited.predict(X_test)\n",
    "accuracy_limited = accuracy_score(y_test, y_pred_limited)\n",
    "print(\"Accuracy with max depth 3:\", accuracy_limited)\n",
    "\n",
    "# Train a fully grown Decision Tree Classifier\n",
    "model_full = DecisionTreeClassifier()\n",
    "model_full.fit(X_train, y_train)\n",
    "\n",
    "# Predict and evaluate the fully grown model\n",
    "y_pred_full = model_full.predict(X_test)\n",
    "accuracy_full = accuracy_score(y_test, y_pred_full)\n",
    "print(\"Accuracy with full tree:\", accuracy_full)\n",
    "\n",
    "# Compare the accuracies\n",
    "print(f\"Accuracy with max depth 3: {accuracy_limited:.2f}\")\n",
    "print(f\"Accuracy with full tree: {accuracy_full:.2f}\")\n",
    "\n",
    "# Visualize the decision tree with max depth 3 using Graphviz\n",
    "dot_data = export_graphviz(model_limited, out_file=None, feature_names=iris.feature_names, class_names=iris.target_names, filled=True)\n",
    "graph = graphviz.Source(dot_data)\n",
    "graph.render(\"iris_tree_max_depth_3\")\n",
    "\n",
    "# Visualize the fully grown decision tree using Graphviz\n",
    "dot_data_full = export_graphviz(model_full, out_file=None, feature_names=iris.feature_names, class_names=iris.target_names, filled=True)\n",
    "graph_full = graphviz.Source(dot_data_full)\n",
    "graph_full.render(\"iris_tree_full\")\n"
   ]
  },
  {
   "cell_type": "code",
   "execution_count": 28,
   "id": "35cd7757-bb40-4a1b-9546-4c1eca7e11e7",
   "metadata": {},
   "outputs": [],
   "source": [
    "#Q22.Write a Python program to train a Decision Tree Classifier using min_samples_split=5 and compare its accuracy with a default tree"
   ]
  },
  {
   "cell_type": "code",
   "execution_count": 46,
   "id": "3eeba3bf-fefc-4d11-865e-39e309873b27",
   "metadata": {},
   "outputs": [
    {
     "name": "stdout",
     "output_type": "stream",
     "text": [
      "Accuracy with min_samples_split=5: 1.0\n",
      "Accuracy with default tree: 1.0\n",
      "Accuracy with min_samples_split=5: 1.00\n",
      "Accuracy with default tree: 1.00\n"
     ]
    }
   ],
   "source": [
    "# Import necessary libraries\n",
    "from sklearn.datasets import load_iris\n",
    "from sklearn.model_selection import train_test_split\n",
    "from sklearn.tree import DecisionTreeClassifier\n",
    "from sklearn.metrics import accuracy_score\n",
    "\n",
    "# Load the Iris dataset\n",
    "iris = load_iris()\n",
    "X_train, X_test, y_train, y_test = train_test_split(iris.data, iris.target, test_size=0.2, random_state=42)\n",
    "\n",
    "# Train a Decision Tree Classifier with min_samples_split=5\n",
    "model_split = DecisionTreeClassifier(min_samples_split=5)\n",
    "model_split.fit(X_train, y_train)\n",
    "\n",
    "# Predict and evaluate the model\n",
    "y_pred_split = model_split.predict(X_test)\n",
    "accuracy_split = accuracy_score(y_test, y_pred_split)\n",
    "print(\"Accuracy with min_samples_split=5:\", accuracy_split)\n",
    "\n",
    "# Train a default Decision Tree Classifier\n",
    "model_default = DecisionTreeClassifier()\n",
    "model_default.fit(X_train, y_train)\n",
    "\n",
    "# Predict and evaluate the default model\n",
    "y_pred_default = model_default.predict(X_test)\n",
    "accuracy_default = accuracy_score(y_test, y_pred_default)\n",
    "print(\"Accuracy with default tree:\", accuracy_default)\n",
    "\n",
    "# Compare the accuracies\n",
    "print(f\"Accuracy with min_samples_split=5: {accuracy_split:.2f}\")\n",
    "print(f\"Accuracy with default tree: {accuracy_default:.2f}\")\n"
   ]
  },
  {
   "cell_type": "code",
   "execution_count": 30,
   "id": "dc00f5f8-979c-4eec-9ad3-979a761f98a4",
   "metadata": {},
   "outputs": [],
   "source": [
    "#Q23.  Write a Python program to apply feature scaling before training a Decision Tree Classifier and compare its accuracy with unscaled data."
   ]
  },
  {
   "cell_type": "code",
   "execution_count": 47,
   "id": "e856d26f-dc7d-4129-b952-34ea412c799a",
   "metadata": {},
   "outputs": [
    {
     "name": "stdout",
     "output_type": "stream",
     "text": [
      "Accuracy with scaled data: 1.0\n",
      "Accuracy with unscaled data: 1.0\n",
      "Accuracy with scaled data: 1.00\n",
      "Accuracy with unscaled data: 1.00\n"
     ]
    }
   ],
   "source": [
    "# Import necessary libraries\n",
    "from sklearn.datasets import load_iris\n",
    "from sklearn.model_selection import train_test_split\n",
    "from sklearn.tree import DecisionTreeClassifier\n",
    "from sklearn.metrics import accuracy_score\n",
    "from sklearn.preprocessing import StandardScaler\n",
    "\n",
    "# Load the Iris dataset\n",
    "iris = load_iris()\n",
    "X_train, X_test, y_train, y_test = train_test_split(iris.data, iris.target, test_size=0.2, random_state=42)\n",
    "\n",
    "# Apply feature scaling\n",
    "scaler = StandardScaler()\n",
    "X_train_scaled = scaler.fit_transform(X_train)\n",
    "X_test_scaled = scaler.transform(X_test)\n",
    "\n",
    "# Train a Decision Tree Classifier on scaled data\n",
    "model_scaled = DecisionTreeClassifier()\n",
    "model_scaled.fit(X_train_scaled, y_train)\n",
    "\n",
    "# Predict and evaluate the model on scaled data\n",
    "y_pred_scaled = model_scaled.predict(X_test_scaled)\n",
    "accuracy_scaled = accuracy_score(y_test, y_pred_scaled)\n",
    "print(\"Accuracy with scaled data:\", accuracy_scaled)\n",
    "\n",
    "# Train a Decision Tree Classifier on unscaled data\n",
    "model_unscaled = DecisionTreeClassifier()\n",
    "model_unscaled.fit(X_train, y_train)\n",
    "\n",
    "# Predict and evaluate the model on unscaled data\n",
    "y_pred_unscaled = model_unscaled.predict(X_test)\n",
    "accuracy_unscaled = accuracy_score(y_test, y_pred_unscaled)\n",
    "print(\"Accuracy with unscaled data:\", accuracy_unscaled)\n",
    "\n",
    "# Compare the accuracies\n",
    "print(f\"Accuracy with scaled data: {accuracy_scaled:.2f}\")\n",
    "print(f\"Accuracy with unscaled data: {accuracy_unscaled:.2f}\")\n"
   ]
  },
  {
   "cell_type": "code",
   "execution_count": 32,
   "id": "654f74e8-9e54-403b-b3a7-5092800da82f",
   "metadata": {},
   "outputs": [],
   "source": [
    "#Q24 Write a Python program to train a Decision Tree Classifier using One-vs-Rest (OvR) strategy for multiclass classification"
   ]
  },
  {
   "cell_type": "code",
   "execution_count": 33,
   "id": "990f7791-a858-4428-aa06-d8ec8f859c8b",
   "metadata": {},
   "outputs": [
    {
     "name": "stdout",
     "output_type": "stream",
     "text": [
      "Accuracy with OvR strategy: 1.0\n"
     ]
    }
   ],
   "source": [
    "# Import necessary libraries\n",
    "from sklearn.datasets import load_iris\n",
    "from sklearn.model_selection import train_test_split\n",
    "from sklearn.tree import DecisionTreeClassifier\n",
    "from sklearn.multiclass import OneVsRestClassifier\n",
    "from sklearn.metrics import accuracy_score\n",
    "\n",
    "# Load the Iris dataset\n",
    "iris = load_iris()\n",
    "X_train, X_test, y_train, y_test = train_test_split(iris.data, iris.target, test_size=0.2, random_state=42)\n",
    "\n",
    "# Train a Decision Tree Classifier using One-vs-Rest (OvR) strategy\n",
    "ovr_classifier = OneVsRestClassifier(DecisionTreeClassifier())\n",
    "ovr_classifier.fit(X_train, y_train)\n",
    "\n",
    "# Predict and evaluate the model\n",
    "y_pred = ovr_classifier.predict(X_test)\n",
    "accuracy = accuracy_score(y_test, y_pred)\n",
    "print(\"Accuracy with OvR strategy:\", accuracy)\n"
   ]
  },
  {
   "cell_type": "code",
   "execution_count": 34,
   "id": "32568974-15ac-4024-8e97-5f0fd94399e1",
   "metadata": {},
   "outputs": [],
   "source": [
    "#Q25 Write a Python program to train a Decision Tree Classifier and display the feature importance scores"
   ]
  },
  {
   "cell_type": "code",
   "execution_count": 35,
   "id": "28705c46-2ff8-410b-857a-925625634701",
   "metadata": {},
   "outputs": [
    {
     "name": "stdout",
     "output_type": "stream",
     "text": [
      "Feature Importance Scores:\n",
      "             Feature  Importance\n",
      "0  sepal length (cm)    0.000000\n",
      "1   sepal width (cm)    0.016670\n",
      "2  petal length (cm)    0.405935\n",
      "3   petal width (cm)    0.577395\n",
      "\n",
      "Sorted Feature Importance Scores:\n",
      "             Feature  Importance\n",
      "3   petal width (cm)    0.577395\n",
      "2  petal length (cm)    0.405935\n",
      "1   sepal width (cm)    0.016670\n",
      "0  sepal length (cm)    0.000000\n",
      "\n",
      "Model Accuracy: 1.0\n"
     ]
    }
   ],
   "source": [
    "# Import necessary libraries\n",
    "from sklearn.datasets import load_iris\n",
    "from sklearn.model_selection import train_test_split\n",
    "from sklearn.tree import DecisionTreeClassifier\n",
    "import pandas as pd\n",
    "\n",
    "# Load the Iris dataset\n",
    "iris = load_iris()\n",
    "X_train, X_test, y_train, y_test = train_test_split(iris.data, iris.target, test_size=0.2, random_state=42)\n",
    "\n",
    "# Train a Decision Tree Classifier\n",
    "model = DecisionTreeClassifier()\n",
    "model.fit(X_train, y_train)\n",
    "\n",
    "# Display feature importance scores\n",
    "feature_importances = model.feature_importances_\n",
    "features = iris.feature_names\n",
    "\n",
    "# Create a DataFrame for better visualization\n",
    "importance_df = pd.DataFrame({'Feature': features, 'Importance': feature_importances})\n",
    "print(\"Feature Importance Scores:\")\n",
    "print(importance_df)\n",
    "\n",
    "# Sort by importance\n",
    "importance_df_sorted = importance_df.sort_values(by='Importance', ascending=False)\n",
    "print(\"\\nSorted Feature Importance Scores:\")\n",
    "print(importance_df_sorted)\n",
    "\n",
    "# Predict and evaluate the model\n",
    "y_pred = model.predict(X_test)\n",
    "accuracy = accuracy_score(y_test, y_pred)\n",
    "print(\"\\nModel Accuracy:\", accuracy)\n"
   ]
  },
  {
   "cell_type": "code",
   "execution_count": 36,
   "id": "ecf8ea8f-eb80-4875-959d-70de77353c06",
   "metadata": {},
   "outputs": [],
   "source": [
    "#Q26 Write a Python program to train a Decision Tree Regressor with max_depth=5 and compare its performance with an unrestricted tree"
   ]
  },
  {
   "cell_type": "code",
   "execution_count": 37,
   "id": "88578f83-c764-479f-821c-2a8bca2cdadb",
   "metadata": {},
   "outputs": [
    {
     "name": "stdout",
     "output_type": "stream",
     "text": [
      "MSE with max depth 5: 0.5245146178314735\n",
      "MSE with full tree: 0.5004372233761628\n",
      "MSE with max depth 5: 0.52\n",
      "MSE with full tree: 0.50\n"
     ]
    }
   ],
   "source": [
    "# Import necessary libraries\n",
    "from sklearn.datasets import fetch_california_housing\n",
    "from sklearn.model_selection import train_test_split\n",
    "from sklearn.tree import DecisionTreeRegressor\n",
    "from sklearn.metrics import mean_squared_error\n",
    "\n",
    "# Load the California Housing dataset\n",
    "data = fetch_california_housing()\n",
    "X_train, X_test, y_train, y_test = train_test_split(data.data, data.target, test_size=0.2, random_state=42)\n",
    "\n",
    "# Train a Decision Tree Regressor with max depth 5\n",
    "model_limited = DecisionTreeRegressor(max_depth=5)\n",
    "model_limited.fit(X_train, y_train)\n",
    "\n",
    "# Predict and evaluate the limited depth model\n",
    "y_pred_limited = model_limited.predict(X_test)\n",
    "mse_limited = mean_squared_error(y_test, y_pred_limited)\n",
    "print(\"MSE with max depth 5:\", mse_limited)\n",
    "\n",
    "# Train a fully grown Decision Tree Regressor\n",
    "model_full = DecisionTreeRegressor()\n",
    "model_full.fit(X_train, y_train)\n",
    "\n",
    "# Predict and evaluate the fully grown model\n",
    "y_pred_full = model_full.predict(X_test)\n",
    "mse_full = mean_squared_error(y_test, y_pred_full)\n",
    "print(\"MSE with full tree:\", mse_full)\n",
    "\n",
    "# Compare the MSEs\n",
    "print(f\"MSE with max depth 5: {mse_limited:.2f}\")\n",
    "print(f\"MSE with full tree: {mse_full:.2f}\")\n"
   ]
  },
  {
   "cell_type": "code",
   "execution_count": 38,
   "id": "1f03f153-25cd-4f26-a083-f1382fb4f1bd",
   "metadata": {},
   "outputs": [],
   "source": [
    "#Q27 Write a Python program to train a Decision Tree Classifier, apply Cost Complexity Pruning (CCP), and visualize its effect on accuracy"
   ]
  },
  {
   "cell_type": "code",
   "execution_count": 39,
   "id": "c6ea412e-33b2-443d-bbac-c1bdf138c553",
   "metadata": {},
   "outputs": [
    {
     "data": {
      "image/png": "[encoded data removed]",
      "text/plain": [
       "<Figure size 1000x600 with 1 Axes>"
      ]
     },
     "metadata": {},
     "output_type": "display_data"
    }
   ],
   "source": [
    "# Import necessary libraries\n",
    "import matplotlib.pyplot as plt\n",
    "from sklearn.datasets import load_iris\n",
    "from sklearn.model_selection import train_test_split\n",
    "from sklearn.tree import DecisionTreeClassifier\n",
    "from sklearn.metrics import accuracy_score\n",
    "\n",
    "# Load the Iris dataset\n",
    "iris = load_iris()\n",
    "X_train, X_test, y_train, y_test = train_test_split(iris.data, iris.target, test_size=0.2, random_state=42)\n",
    "\n",
    "# Train a Decision Tree Classifier and apply Cost Complexity Pruning (CCP)\n",
    "clf = DecisionTreeClassifier(random_state=42)\n",
    "path = clf.cost_complexity_pruning_path(X_train, y_train)\n",
    "ccp_alphas = path.ccp_alphas\n",
    "\n",
    "# Initialize lists to store training and testing accuracies\n",
    "train_acc = []\n",
    "test_acc = []\n",
    "\n",
    "# Train and evaluate a Decision Tree for each ccp_alpha value\n",
    "for ccp_alpha in ccp_alphas:\n",
    "    clf = DecisionTreeClassifier(random_state=42, ccp_alpha=ccp_alpha)\n",
    "    clf.fit(X_train, y_train)\n",
    "    \n",
    "    y_train_pred = clf.predict(X_train)\n",
    "    y_test_pred = clf.predict(X_test)\n",
    "    \n",
    "    train_acc.append(accuracy_score(y_train, y_train_pred))\n",
    "    test_acc.append(accuracy_score(y_test, y_test_pred))\n",
    "\n",
    "# Plot the effect of CCP on accuracy\n",
    "plt.figure(figsize=(10, 6))\n",
    "plt.plot(ccp_alphas, train_acc, label=\"Train Accuracy\", marker='o')\n",
    "plt.plot(ccp_alphas, test_acc, label=\"Test Accuracy\", marker='o')\n",
    "plt.xlabel(\"ccp_alpha\")\n",
    "plt.ylabel(\"Accuracy\")\n",
    "plt.title(\"Effect of CCP on Train and Test Accuracy\")\n",
    "plt.legend()\n",
    "plt.grid(True)\n",
    "plt.show()\n"
   ]
  },
  {
   "cell_type": "code",
   "execution_count": 40,
   "id": "253ee1c0-51e7-4cd1-a050-f04784122ebc",
   "metadata": {},
   "outputs": [],
   "source": [
    "#Q28 Write a Python program to train a Decision Tree Classifier and evaluate its performance using Precision, Recall, and F1-Score"
   ]
  },
  {
   "cell_type": "code",
   "execution_count": 41,
   "id": "5dda5611-6d6d-4a9e-9f35-d5ea4949c676",
   "metadata": {},
   "outputs": [
    {
     "name": "stdout",
     "output_type": "stream",
     "text": [
      "Precision: 1.00\n",
      "Recall: 1.00\n",
      "F1-Score: 1.00\n",
      "Accuracy: 1.00\n"
     ]
    }
   ],
   "source": [
    "# Import necessary libraries\n",
    "from sklearn.datasets import load_iris\n",
    "from sklearn.model_selection import train_test_split\n",
    "from sklearn.tree import DecisionTreeClassifier\n",
    "from sklearn.metrics import precision_score, recall_score, f1_score, accuracy_score\n",
    "\n",
    "# Load the Iris dataset\n",
    "iris = load_iris()\n",
    "X_train, X_test, y_train, y_test = train_test_split(iris.data, iris.target, test_size=0.2, random_state=42)\n",
    "\n",
    "# Train a Decision Tree Classifier\n",
    "model = DecisionTreeClassifier()\n",
    "model.fit(X_train, y_train)\n",
    "\n",
    "# Predict the labels of the test set\n",
    "y_pred = model.predict(X_test)\n",
    "\n",
    "# Evaluate the model using Precision, Recall, and F1-Score\n",
    "precision = precision_score(y_test, y_pred, average='weighted')\n",
    "recall = recall_score(y_test, y_pred, average='weighted')\n",
    "f1 = f1_score(y_test, y_pred, average='weighted')\n",
    "accuracy = accuracy_score(y_test, y_pred)\n",
    "\n",
    "# Print the evaluation metrics\n",
    "print(f\"Precision: {precision:.2f}\")\n",
    "print(f\"Recall: {recall:.2f}\")\n",
    "print(f\"F1-Score: {f1:.2f}\")\n",
    "print(f\"Accuracy: {accuracy:.2f}\")\n"
   ]
  },
  {
   "cell_type": "code",
   "execution_count": 42,
   "id": "d87ef94c-8c56-44e5-b456-5f0390e088c7",
   "metadata": {},
   "outputs": [],
   "source": [
    "#Q29 Write a Python program to train a Decision Tree Classifier and visualize the confusion matrix using seaborn"
   ]
  },
  {
   "cell_type": "code",
   "execution_count": 43,
   "id": "3a6cf06a-ae9c-4f11-a500-d24c0040b03d",
   "metadata": {},
   "outputs": [
    {
     "data": {
      "image/png": "[encoded data removed]",
      "text/plain": [
       "<Figure size 1000x600 with 2 Axes>"
      ]
     },
     "metadata": {},
     "output_type": "display_data"
    },
    {
     "name": "stdout",
     "output_type": "stream",
     "text": [
      "Accuracy: 1.00\n"
     ]
    }
   ],
   "source": [
    "# Import necessary libraries\n",
    "from sklearn.datasets import load_iris\n",
    "from sklearn.model_selection import train_test_split\n",
    "from sklearn.tree import DecisionTreeClassifier\n",
    "from sklearn.metrics import confusion_matrix, accuracy_score\n",
    "import seaborn as sns\n",
    "import matplotlib.pyplot as plt\n",
    "\n",
    "# Load the Iris dataset\n",
    "iris = load_iris()\n",
    "X_train, X_test, y_train, y_test = train_test_split(iris.data, iris.target, test_size=0.2, random_state=42)\n",
    "\n",
    "# Train a Decision Tree Classifier\n",
    "model = DecisionTreeClassifier()\n",
    "model.fit(X_train, y_train)\n",
    "\n",
    "# Predict the labels of the test set\n",
    "y_pred = model.predict(X_test)\n",
    "\n",
    "# Compute the confusion matrix\n",
    "cm = confusion_matrix(y_test, y_pred)\n",
    "\n",
    "# Visualize the confusion matrix using seaborn\n",
    "plt.figure(figsize=(10, 6))\n",
    "sns.heatmap(cm, annot=True, fmt='d', cmap='Blues', xticklabels=iris.target_names, yticklabels=iris.target_names)\n",
    "plt.xlabel('Predicted')\n",
    "plt.ylabel('True')\n",
    "plt.title('Confusion Matrix')\n",
    "plt.show()\n",
    "\n",
    "# Print the evaluation metrics\n",
    "accuracy = accuracy_score(y_test, y_pred)\n",
    "print(f\"Accuracy: {accuracy:.2f}\")\n"
   ]
  },
  {
   "cell_type": "code",
   "execution_count": 44,
   "id": "3ea998ff-d58c-481d-ad4c-4339caf3f6a0",
   "metadata": {},
   "outputs": [],
   "source": [
    "#Q30 Write a Python program to train a Decision Tree Classifier and use GridSearchCV to find the optimal values for max_depth and min_samples_split"
   ]
  },
  {
   "cell_type": "code",
   "execution_count": 45,
   "id": "400688a4-f000-4fbc-ae84-308dc0d7840b",
   "metadata": {},
   "outputs": [
    {
     "name": "stdout",
     "output_type": "stream",
     "text": [
      "Best hyperparameters found:  {'max_depth': None, 'min_samples_split': 2}\n",
      "Accuracy of the best model:  1.0\n"
     ]
    }
   ],
   "source": [
    "# Import necessary libraries\n",
    "from sklearn.datasets import load_iris\n",
    "from sklearn.model_selection import train_test_split, GridSearchCV\n",
    "from sklearn.tree import DecisionTreeClassifier\n",
    "from sklearn.metrics import accuracy_score\n",
    "\n",
    "# Load the Iris dataset\n",
    "iris = load_iris()\n",
    "X_train, X_test, y_train, y_test = train_test_split(iris.data, iris.target, test_size=0.2, random_state=42)\n",
    "\n",
    "# Define parameter grid for GridSearchCV\n",
    "param_grid = {\n",
    "    'max_depth': [None, 3, 5, 7, 10],\n",
    "    'min_samples_split': [2, 5, 10]\n",
    "}\n",
    "\n",
    "# Initialize a Decision Tree Classifier\n",
    "model = DecisionTreeClassifier()\n",
    "\n",
    "# Initialize GridSearchCV\n",
    "grid_search = GridSearchCV(estimator=model, param_grid=param_grid, cv=5, scoring='accuracy')\n",
    "\n",
    "# Train the model using GridSearchCV\n",
    "grid_search.fit(X_train, y_train)\n",
    "\n",
    "# Get the best model and parameters\n",
    "best_model = grid_search.best_estimator_\n",
    "best_params = grid_search.best_params_\n",
    "\n",
    "# Predict and evaluate the best model\n",
    "y_pred = best_model.predict(X_test)\n",
    "accuracy = accuracy_score(y_test, y_pred)\n",
    "\n",
    "# Print results\n",
    "print(\"Best hyperparameters found: \", best_params)\n",
    "print(\"Accuracy of the best model: \", accuracy)\n"
   ]
  },
  {
   "cell_type": "code",
   "execution_count": null,
   "id": "a657cdf3-51a4-4261-a947-f53b41f5453c",
   "metadata": {},
   "outputs": [],
   "source": []
  }
 ],
 "metadata": {
  "kernelspec": {
   "display_name": "Python 3 (ipykernel)",
   "language": "python",
   "name": "python3"
  },
  "language_info": {
   "codemirror_mode": {
    "name": "ipython",
    "version": 3
   },
   "file_extension": ".py",
   "mimetype": "text/x-python",
   "name": "python",
   "nbconvert_exporter": "python",
   "pygments_lexer": "ipython3",
   "version": "3.12.5"
  }
 },
 "nbformat": 4,
 "nbformat_minor": 5
}
